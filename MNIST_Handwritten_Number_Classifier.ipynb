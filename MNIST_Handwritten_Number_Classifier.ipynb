{
  "nbformat": 4,
  "nbformat_minor": 0,
  "metadata": {
    "colab": {
      "name": "MNIST Handwritten Number Classifier.ipynb",
      "provenance": [],
      "collapsed_sections": []
    },
    "kernelspec": {
      "name": "python3",
      "display_name": "Python 3"
    },
    "accelerator": "GPU"
  },
  "cells": [
    {
      "cell_type": "code",
      "metadata": {
        "id": "NmYivBbuhbdK",
        "colab_type": "code",
        "colab": {}
      },
      "source": [
        "import numpy as np\n",
        "import matplotlib.pyplot as plt\n"
      ],
      "execution_count": 2,
      "outputs": []
    },
    {
      "cell_type": "code",
      "metadata": {
        "id": "eIHXc3eFiLXO",
        "colab_type": "code",
        "colab": {
          "base_uri": "https://localhost:8080/",
          "height": 72
        },
        "outputId": "ecfa83a6-2b9c-4685-c0be-97d07af21000"
      },
      "source": [
        "#importing MNIST Handwritten Dataset for Classification Problem\n",
        "from keras.datasets import mnist\n",
        "\n",
        "#Dividing the dataset containing images and their corresponding labels into Training Set and Test Set\n",
        "(x_train, y_train), (x_test, y_test) = mnist.load_data()"
      ],
      "execution_count": 3,
      "outputs": [
        {
          "output_type": "stream",
          "text": [
            "Using TensorFlow backend.\n"
          ],
          "name": "stderr"
        },
        {
          "output_type": "stream",
          "text": [
            "Downloading data from https://s3.amazonaws.com/img-datasets/mnist.npz\n",
            "11493376/11490434 [==============================] - 2s 0us/step\n"
          ],
          "name": "stdout"
        }
      ]
    },
    {
      "cell_type": "code",
      "metadata": {
        "id": "DlcC3yRuiLoq",
        "colab_type": "code",
        "colab": {
          "base_uri": "https://localhost:8080/",
          "height": 283
        },
        "outputId": "d577f4a7-da32-49bf-c31c-3a0a57e08507"
      },
      "source": [
        "#Looking at one of the images from the dataset\n",
        "plt.imshow(x_train[3], cmap = 'gray')"
      ],
      "execution_count": 4,
      "outputs": [
        {
          "output_type": "execute_result",
          "data": {
            "text/plain": [
              "<matplotlib.image.AxesImage at 0x7f3fbbff40b8>"
            ]
          },
          "metadata": {
            "tags": []
          },
          "execution_count": 4
        },
        {
          "output_type": "display_data",
          "data": {
            "image/png": "[encoded data removed]",
            "text/plain": [
              "<Figure size 432x288 with 1 Axes>"
            ]
          },
          "metadata": {
            "tags": [],
            "needs_background": "light"
          }
        }
      ]
    },
    {
      "cell_type": "code",
      "metadata": {
        "id": "gRVRxFMUiLmV",
        "colab_type": "code",
        "colab": {}
      },
      "source": [
        "#Creating a Class for performing K - Nearest Neighbour(KNN) for Classifying Images\n",
        "\n",
        "class NewKNN:\n",
        "  def __init__(self, neighbours = 5):\n",
        "    self.neighbours = neighbours\n",
        "\n",
        "  def fit(self, X, y):\n",
        "    self.X = (X - X.mean()) / X.std()           #Converting the data in Standard Normal Variate\n",
        "    self.y = y\n",
        "\n",
        "  def prediction(self, image):\n",
        "    list_dist = []\n",
        "    for x_point, y_point in zip(self.X, self.y):\n",
        "      distance = ((image - x_point) ** 2).sum() #Calculating the Euclidean Distance between every image in the dataset \n",
        "      list_dist.append([distance, y_point])\n",
        "\n",
        "    sorted_distance = sorted(list_dist)         #Sorting the list of distances in ascending order\n",
        "    top_k = sorted_distance[:self.neighbours]\n",
        "\n",
        "    items, counts = np.unique(np.array(top_k)[:, 1], return_counts = True)\n",
        "    ans = items[np.argmax(counts)]\n",
        "    return ans\n",
        "\n",
        "  def predict(self, X):\n",
        "      results = []\n",
        "      X = (X - X.mean()) / X.std()\n",
        "      for point in X:\n",
        "        results.append(self.prediction(point))\n",
        "      return np.array(results, dtype = int)\n",
        "\n",
        "  def score(self, X, y):\n",
        "      return sum(self.predict(X) == y) / len(y)"
      ],
      "execution_count": 10,
      "outputs": []
    },
    {
      "cell_type": "code",
      "metadata": {
        "id": "qfayW9espnXj",
        "colab_type": "code",
        "colab": {}
      },
      "source": [
        "knn = NewKNN()                       \n",
        "knn.fit(x_train, y_train)"
      ],
      "execution_count": 11,
      "outputs": []
    },
    {
      "cell_type": "code",
      "metadata": {
        "id": "7pTbO7B0qQ5G",
        "colab_type": "code",
        "colab": {
          "base_uri": "https://localhost:8080/",
          "height": 35
        },
        "outputId": "afa1a815-2b91-480c-a4c6-6e740e160d70"
      },
      "source": [
        "knn.predict(x_test[:10])"
      ],
      "execution_count": 13,
      "outputs": [
        {
          "output_type": "execute_result",
          "data": {
            "text/plain": [
              "array([7, 2, 1, 0, 4, 1, 4, 9, 5, 9])"
            ]
          },
          "metadata": {
            "tags": []
          },
          "execution_count": 13
        }
      ]
    },
    {
      "cell_type": "code",
      "metadata": {
        "id": "CzPUjCjcnsNY",
        "colab_type": "code",
        "colab": {
          "base_uri": "https://localhost:8080/",
          "height": 283
        },
        "outputId": "6566f53c-212f-4004-d7c1-89e5298991de"
      },
      "source": [
        "plt.imshow(x_test[3], cmap = 'gray')     #The image of the 4th datapoint in the dataset which matches with the label predicted"
      ],
      "execution_count": 14,
      "outputs": [
        {
          "output_type": "execute_result",
          "data": {
            "text/plain": [
              "<matplotlib.image.AxesImage at 0x7f3fbbacd0f0>"
            ]
          },
          "metadata": {
            "tags": []
          },
          "execution_count": 14
        },
        {
          "output_type": "display_data",
          "data": {
            "image/png": "[encoded data removed]",
            "text/plain": [
              "<Figure size 432x288 with 1 Axes>"
            ]
          },
          "metadata": {
            "tags": [],
            "needs_background": "light"
          }
        }
      ]
    },
    {
      "cell_type": "code",
      "metadata": {
        "id": "KoIOgyM4nsVg",
        "colab_type": "code",
        "colab": {
          "base_uri": "https://localhost:8080/",
          "height": 35
        },
        "outputId": "0b7a4b27-31b9-4e26-a8e2-0dc698a86018"
      },
      "source": [
        "knn.score(x_test[:50], y_test[:50])"
      ],
      "execution_count": 16,
      "outputs": [
        {
          "output_type": "execute_result",
          "data": {
            "text/plain": [
              "0.98"
            ]
          },
          "metadata": {
            "tags": []
          },
          "execution_count": 16
        }
      ]
    },
    {
      "cell_type": "markdown",
      "metadata": {
        "id": "Y-_wI6G_q3ff",
        "colab_type": "text"
      },
      "source": [
        "# ***The Accuracy of our KNN Classifier is 98% on the given training set***"
      ]
    },
    {
      "cell_type": "code",
      "metadata": {
        "id": "0WxAho1LnscT",
        "colab_type": "code",
        "colab": {}
      },
      "source": [
        ""
      ],
      "execution_count": null,
      "outputs": []
    },
    {
      "cell_type": "code",
      "metadata": {
        "id": "egfGJASInsan",
        "colab_type": "code",
        "colab": {}
      },
      "source": [
        ""
      ],
      "execution_count": null,
      "outputs": []
    }
  ]
}